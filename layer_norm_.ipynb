{
  "nbformat": 4,
  "nbformat_minor": 0,
  "metadata": {
    "colab": {
      "provenance": []
    },
    "kernelspec": {
      "name": "python3",
      "display_name": "Python 3"
    },
    "language_info": {
      "name": "python"
    }
  },
  "cells": [
    {
      "cell_type": "code",
      "execution_count": 1,
      "metadata": {
        "colab": {
          "base_uri": "https://localhost:8080/"
        },
        "id": "pEsCmSTOB36p",
        "outputId": "addf01d6-d1f6-4680-f1be-1370fa28720d"
      },
      "outputs": [
        {
          "output_type": "stream",
          "name": "stdout",
          "text": [
            "tensor([[-1.4142, -0.7071,  0.0000,  0.7071,  1.4142],\n",
            "        [ 1.4142,  0.7071,  0.0000, -0.7071, -1.4142]],\n",
            "       grad_fn=<NativeLayerNormBackward0>)\n"
          ]
        }
      ],
      "source": [
        "import torch\n",
        "import torch.nn as nn\n",
        "\n",
        "# Giả sử đầu vào có 5 feature\n",
        "layer_norm = nn.LayerNorm(normalized_shape=5)\n",
        "\n",
        "x = torch.tensor([[1.0, 2.0, 3.0, 4.0, 5.0],\n",
        "                  [5.0, 4.0, 3.0, 2.0, 1.0]])\n",
        "\n",
        "output = layer_norm(x)\n",
        "print(output)\n"
      ]
    },
    {
      "cell_type": "code",
      "source": [
        "import torch\n",
        "\n",
        "# Đầu vào\n",
        "x = torch.tensor([[1.0, 2.0, 3.0, 4.0, 5.0],\n",
        "                  [5.0, 4.0, 3.0, 2.0, 1.0]])\n",
        "\n",
        "# Tham số\n",
        "epsilon = 1e-5\n",
        "gamma = torch.ones(x.size(1))  # shape = (5,)\n",
        "beta = torch.zeros(x.size(1)) # shape = (5,)\n",
        "\n",
        "# Tính mean và std cho từng dòng (từng sample)\n",
        "mean = x.mean(dim=1, keepdim=True)      # shape: (2, 1)\n",
        "std = x.std(dim=1, keepdim=True, unbiased=False)  # shape: (2, 1)\n",
        "\n",
        "# LayerNorm thủ công\n",
        "x_hat = (x - mean) / (std + epsilon)     # chuẩn hóa\n",
        "output = gamma * x_hat + beta            # scale và shift\n",
        "\n",
        "print(\"Custom LayerNorm output:\")\n",
        "print(output)\n"
      ],
      "metadata": {
        "colab": {
          "base_uri": "https://localhost:8080/"
        },
        "id": "3eedyTsDB9jd",
        "outputId": "85ba1957-d6b2-462c-bc40-155e9e829005"
      },
      "execution_count": 2,
      "outputs": [
        {
          "output_type": "stream",
          "name": "stdout",
          "text": [
            "Custom LayerNorm output:\n",
            "tensor([[-1.4142, -0.7071,  0.0000,  0.7071,  1.4142],\n",
            "        [ 1.4142,  0.7071,  0.0000, -0.7071, -1.4142]])\n"
          ]
        }
      ]
    }
  ]
}