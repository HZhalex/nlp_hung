{
  "nbformat": 4,
  "nbformat_minor": 0,
  "metadata": {
    "colab": {
      "provenance": [],
      "gpuType": "V28"
    },
    "kernelspec": {
      "name": "python3",
      "display_name": "Python 3"
    },
    "language_info": {
      "name": "python"
    },
    "accelerator": "TPU"
  },
  "cells": [
    {
      "cell_type": "markdown",
      "source": [
        "Understanding the PyTorch parallel scan, with RNNs/Mamba in mind"
      ],
      "metadata": {
        "id": "QIA9zEMggzsX"
      }
    },
    {
      "cell_type": "code",
      "execution_count": 2,
      "metadata": {
        "id": "TnMnWRnMgSRa"
      },
      "outputs": [],
      "source": [
        "import torch\n",
        "import math"
      ]
    },
    {
      "cell_type": "code",
      "source": [
        "X = torch.tensor([1,2,3,4])\n",
        "\n",
        "torch.cumsum(X, dim = 0)"
      ],
      "metadata": {
        "colab": {
          "base_uri": "https://localhost:8080/"
        },
        "id": "OXVofH3Rgtkl",
        "outputId": "9146559d-8870-427c-c43d-3d1ff63d9288"
      },
      "execution_count": 5,
      "outputs": [
        {
          "output_type": "execute_result",
          "data": {
            "text/plain": [
              "tensor([ 1,  3,  6, 10])"
            ]
          },
          "metadata": {},
          "execution_count": 5
        }
      ]
    },
    {
      "cell_type": "code",
      "source": [
        "Y =torch.zeros_like(X)\n",
        "print(Y)"
      ],
      "metadata": {
        "colab": {
          "base_uri": "https://localhost:8080/"
        },
        "id": "kxtp642vgtih",
        "outputId": "4f11bf30-69f9-49b9-8360-a37a9e9f7760"
      },
      "execution_count": 22,
      "outputs": [
        {
          "output_type": "stream",
          "name": "stdout",
          "text": [
            "tensor([0, 0, 0, 0])\n"
          ]
        }
      ]
    },
    {
      "cell_type": "code",
      "source": [
        "cumulative_sum = 0\n",
        "print(X.size(0))"
      ],
      "metadata": {
        "colab": {
          "base_uri": "https://localhost:8080/"
        },
        "id": "NHpjMkxGgtgZ",
        "outputId": "8464dfa0-bf28-4dbf-c56a-b233189abeb0"
      },
      "execution_count": 23,
      "outputs": [
        {
          "output_type": "stream",
          "name": "stdout",
          "text": [
            "4\n"
          ]
        }
      ]
    },
    {
      "cell_type": "code",
      "source": [
        "for t in range(X.size(0)):\n",
        "  cumulative_sum += X[t]\n",
        "  Y[t] = cumulative_sum\n",
        "Y"
      ],
      "metadata": {
        "colab": {
          "base_uri": "https://localhost:8080/"
        },
        "id": "1N2XKjfugteC",
        "outputId": "ec856c9b-efa1-41bb-a324-f9810ad374d9"
      },
      "execution_count": 24,
      "outputs": [
        {
          "output_type": "execute_result",
          "data": {
            "text/plain": [
              "tensor([ 1,  3,  6, 10])"
            ]
          },
          "metadata": {},
          "execution_count": 24
        }
      ]
    },
    {
      "cell_type": "code",
      "source": [
        "X = torch.tensor([1,2,3,4])\n",
        "Y = torch.zeros_like(X)\n",
        "Y"
      ],
      "metadata": {
        "colab": {
          "base_uri": "https://localhost:8080/"
        },
        "id": "68Tp27E0jtNu",
        "outputId": "228be9e1-7697-4248-ed82-fc4f0ea43392"
      },
      "execution_count": 43,
      "outputs": [
        {
          "output_type": "execute_result",
          "data": {
            "text/plain": [
              "tensor([0, 0, 0, 0])"
            ]
          },
          "metadata": {},
          "execution_count": 43
        }
      ]
    },
    {
      "cell_type": "code",
      "source": [
        "X = torch.tensor([1,2,3,4])\n",
        "Y = torch.zeros_like(X)\n",
        "hung = 0\n",
        "for i in range(X.size(0)):\n",
        "  hung += X[i]\n",
        "  Y[i] = hung\n",
        "Y"
      ],
      "metadata": {
        "colab": {
          "base_uri": "https://localhost:8080/"
        },
        "id": "4ADhHJCHgtbo",
        "outputId": "d1d993f1-1d82-4bb4-fa0b-a6435ae1251f"
      },
      "execution_count": 46,
      "outputs": [
        {
          "output_type": "execute_result",
          "data": {
            "text/plain": [
              "tensor([ 1,  3,  6, 10])"
            ]
          },
          "metadata": {},
          "execution_count": 46
        }
      ]
    },
    {
      "cell_type": "code",
      "source": [
        "Y = torch.zeros_like(X)\n",
        "\n",
        "cumulative_sum = 0\n",
        "for t in range(X.size(0)):\n",
        "    cumulative_sum += X[t]\n",
        "    Y[t] = cumulative_sum\n",
        "\n",
        "Y"
      ],
      "metadata": {
        "colab": {
          "base_uri": "https://localhost:8080/"
        },
        "id": "06nzJph-gtZD",
        "outputId": "41f29950-cfc3-4724-a24c-f61f2cb6b3ad"
      },
      "execution_count": 39,
      "outputs": [
        {
          "output_type": "execute_result",
          "data": {
            "text/plain": [
              "tensor([ 1,  3,  6, 10])"
            ]
          },
          "metadata": {},
          "execution_count": 39
        }
      ]
    },
    {
      "cell_type": "code",
      "source": [
        "X = torch.tensor([1,2,3,4])\n",
        "Y[0] = X[0]\n",
        "for i in range(1,X.size(0)):\n",
        "  Y[i] = X[i] + Y[i-1]\n",
        "Y"
      ],
      "metadata": {
        "colab": {
          "base_uri": "https://localhost:8080/"
        },
        "id": "o5d0DUokgtWT",
        "outputId": "f291590e-0da7-4606-c336-17ab88e328de"
      },
      "execution_count": 47,
      "outputs": [
        {
          "output_type": "execute_result",
          "data": {
            "text/plain": [
              "tensor([ 1,  3,  6, 10])"
            ]
          },
          "metadata": {},
          "execution_count": 47
        }
      ]
    },
    {
      "cell_type": "code",
      "source": [
        "x = torch.tensor([1,2,3,4,5,6,7,8])\n",
        "l = x.size(0)\n",
        "l"
      ],
      "metadata": {
        "colab": {
          "base_uri": "https://localhost:8080/"
        },
        "id": "wLLxVnMilAWs",
        "outputId": "dd93497c-debe-44d5-942e-ba55a42aee9d"
      },
      "execution_count": 70,
      "outputs": [
        {
          "output_type": "execute_result",
          "data": {
            "text/plain": [
              "8"
            ]
          },
          "metadata": {},
          "execution_count": 70
        }
      ]
    },
    {
      "cell_type": "code",
      "source": [
        "xa = x.view(l//2,2) # (dòng , cột)\n",
        "xa"
      ],
      "metadata": {
        "colab": {
          "base_uri": "https://localhost:8080/"
        },
        "id": "iWOv3k6ulAU8",
        "outputId": "f51782e9-ccb6-49f2-b3ec-8b34eeb1f16f"
      },
      "execution_count": 71,
      "outputs": [
        {
          "output_type": "execute_result",
          "data": {
            "text/plain": [
              "tensor([[1, 2],\n",
              "        [3, 4],\n",
              "        [5, 6],\n",
              "        [7, 8]])"
            ]
          },
          "metadata": {},
          "execution_count": 71
        }
      ]
    },
    {
      "cell_type": "code",
      "source": [
        "xa[:,0]"
      ],
      "metadata": {
        "colab": {
          "base_uri": "https://localhost:8080/"
        },
        "id": "WG05nP9alASc",
        "outputId": "f97e3f47-e283-4fbe-9a7c-77472906afb3"
      },
      "execution_count": 63,
      "outputs": [
        {
          "output_type": "execute_result",
          "data": {
            "text/plain": [
              "tensor([1, 3, 5, 7])"
            ]
          },
          "metadata": {},
          "execution_count": 63
        }
      ]
    },
    {
      "cell_type": "code",
      "source": [
        "xa[:,1]"
      ],
      "metadata": {
        "colab": {
          "base_uri": "https://localhost:8080/"
        },
        "id": "jrxc2k8mlAQE",
        "outputId": "6a6e4fcc-d6ef-447a-e3e4-3d57a8d583d2"
      },
      "execution_count": 64,
      "outputs": [
        {
          "output_type": "execute_result",
          "data": {
            "text/plain": [
              "tensor([ 4, 10, 16, 22])"
            ]
          },
          "metadata": {},
          "execution_count": 64
        }
      ]
    },
    {
      "cell_type": "code",
      "source": [
        "xa[:,0] + xa[:,1]"
      ],
      "metadata": {
        "colab": {
          "base_uri": "https://localhost:8080/"
        },
        "id": "9YdQmeHslANp",
        "outputId": "356e6e74-837a-42cd-a037-e288cbb5781b"
      },
      "execution_count": 65,
      "outputs": [
        {
          "output_type": "execute_result",
          "data": {
            "text/plain": [
              "tensor([ 5, 13, 21, 29])"
            ]
          },
          "metadata": {},
          "execution_count": 65
        }
      ]
    },
    {
      "cell_type": "code",
      "source": [
        "xa[:,1] += xa[:,0]\n",
        "xa[:,1]"
      ],
      "metadata": {
        "colab": {
          "base_uri": "https://localhost:8080/"
        },
        "id": "9xS2Qj4elAK-",
        "outputId": "bc588c12-160b-4dcf-be02-7f83522e34b7"
      },
      "execution_count": 72,
      "outputs": [
        {
          "output_type": "execute_result",
          "data": {
            "text/plain": [
              "tensor([ 3,  7, 11, 15])"
            ]
          },
          "metadata": {},
          "execution_count": 72
        }
      ]
    },
    {
      "cell_type": "code",
      "source": [
        "xa = xa[:,1]\n",
        "xa = xa.view(xa.size(0)//2,2)"
      ],
      "metadata": {
        "id": "O9tXYnzvlAIc"
      },
      "execution_count": 73,
      "outputs": []
    },
    {
      "cell_type": "code",
      "source": [
        "xa"
      ],
      "metadata": {
        "colab": {
          "base_uri": "https://localhost:8080/"
        },
        "id": "i8im00J5gtTj",
        "outputId": "262a3324-2784-42a6-f5ce-6d0a031245a3"
      },
      "execution_count": 74,
      "outputs": [
        {
          "output_type": "execute_result",
          "data": {
            "text/plain": [
              "tensor([[ 3,  7],\n",
              "        [11, 15]])"
            ]
          },
          "metadata": {},
          "execution_count": 74
        }
      ]
    },
    {
      "cell_type": "code",
      "source": [
        "xa[:,1] += xa[:,0]\n",
        "xa[:,1]"
      ],
      "metadata": {
        "colab": {
          "base_uri": "https://localhost:8080/"
        },
        "id": "3oBkjhY_pIaz",
        "outputId": "792ef4b6-5607-473b-c80b-ce1e7067293f"
      },
      "execution_count": 75,
      "outputs": [
        {
          "output_type": "execute_result",
          "data": {
            "text/plain": [
              "tensor([[ 3, 10],\n",
              "        [11, 26]])"
            ]
          },
          "metadata": {},
          "execution_count": 75
        }
      ]
    },
    {
      "cell_type": "code",
      "source": [
        "xa[:,1]"
      ],
      "metadata": {
        "colab": {
          "base_uri": "https://localhost:8080/"
        },
        "id": "b-NlhpOopXvH",
        "outputId": "8f715445-ad66-4783-b62f-b73b644eee1c"
      },
      "execution_count": 76,
      "outputs": [
        {
          "output_type": "execute_result",
          "data": {
            "text/plain": [
              "tensor([10, 26])"
            ]
          },
          "metadata": {},
          "execution_count": 76
        }
      ]
    },
    {
      "cell_type": "code",
      "source": [
        "xa = xa[:,1]\n",
        "xa = xa.view(xa.size(0)//2,2)\n",
        "xa[:,1] += xa[:,0]\n",
        "xa[:,1]"
      ],
      "metadata": {
        "colab": {
          "base_uri": "https://localhost:8080/"
        },
        "id": "7E2AnkO-pXs3",
        "outputId": "17c2d91b-c4e6-4f9a-e332-5e2ab511f94b"
      },
      "execution_count": 77,
      "outputs": [
        {
          "output_type": "execute_result",
          "data": {
            "text/plain": [
              "tensor([36])"
            ]
          },
          "metadata": {},
          "execution_count": 77
        }
      ]
    },
    {
      "cell_type": "code",
      "source": [
        "X = torch.tensor([1, 2, 3, 4, 5, 6, 7, 8]) # input array\n",
        "L = X.size(0)\n",
        "\n",
        "Xa = X\n",
        "\n",
        "for k in range(int(math.log2(L))):\n",
        "    T = 2 * (Xa.size(0) // 2)\n",
        "\n",
        "    # split into 2 groups of pairs of elements\n",
        "    Xa = Xa.view(T//2, 2)\n",
        "\n",
        "    # for each pair, add the first to the second\n",
        "    Xa[:, 1].add_(Xa[:, 0])\n",
        "\n",
        "    # change the view for the next iteration\n",
        "    Xa = Xa[:, 1]\n",
        "\n",
        "X"
      ],
      "metadata": {
        "colab": {
          "base_uri": "https://localhost:8080/"
        },
        "id": "zOXGYWUDpXqW",
        "outputId": "85efb3b2-bc04-455f-9dac-813f722266b2"
      },
      "execution_count": 78,
      "outputs": [
        {
          "output_type": "execute_result",
          "data": {
            "text/plain": [
              "tensor([ 1,  3,  3, 10,  5, 11,  7, 36])"
            ]
          },
          "metadata": {},
          "execution_count": 78
        }
      ]
    },
    {
      "cell_type": "code",
      "source": [
        "X = torch.tensor([5, 1, 2, 3, 4, 5, 6, 7, 8, 0, 0, 0, 0, 0, 0, 0]) # input array\n",
        "L = X.size(0)\n",
        "\n",
        "Xa = X\n",
        "num_steps = int(math.log2(L))\n",
        "\n",
        "for k in range(num_steps):\n",
        "    T = 2 * (Xa.size(0) // 2)\n",
        "\n",
        "    # split into 2 groups of pairs of elements\n",
        "    Xa = Xa.view(T//2, 2)\n",
        "\n",
        "    # for each pair, add the first to the second\n",
        "    Xa[:, 1].add_(Xa[:, 0])\n",
        "\n",
        "    # change the view for the next iteration\n",
        "    Xa = Xa[:, 1]\n",
        "\n",
        "# down sweep\n",
        "for k in range(num_steps-1, -1, -1):\n",
        "    Xa = X[2**k-1:L:2**k]\n",
        "\n",
        "    T = 2 * (Xa.size(0) // 2)\n",
        "\n",
        "    if T < Xa.size(0):\n",
        "        Xa[:, :, -1].add_(Xa[:, :, -2])\n",
        "\n",
        "    Xa = Xa[:T].view(T//2, 2)\n",
        "\n",
        "    Xa[1:, 0].add_(Xa[:-1, 1])\n",
        "\n",
        "X"
      ],
      "metadata": {
        "colab": {
          "base_uri": "https://localhost:8080/"
        },
        "id": "H6jsSBsfpXlG",
        "outputId": "2a0cef04-429d-4496-c2c8-16b8bf511f85"
      },
      "execution_count": 83,
      "outputs": [
        {
          "output_type": "execute_result",
          "data": {
            "text/plain": [
              "tensor([ 5,  6,  8, 11, 15, 20, 26, 33, 41, 41, 41, 41, 41, 41, 41, 41])"
            ]
          },
          "metadata": {},
          "execution_count": 83
        }
      ]
    },
    {
      "cell_type": "markdown",
      "source": [
        "Thuật toán chia thành 2 giai đoạn:\n",
        "\n",
        "Upsweep (reduce phase):\n",
        "\n",
        "Gom cặp phần tử rồi cộng dồn (kiểu như xây “cây nhị phân” của tổng).\n",
        "\n",
        "Dùng .view(..., 2) để chia thành từng cặp.\n",
        "\n",
        "Xa[:, 1].add_(Xa[:, 0]) = cộng giá trị phần tử bên trái vào phần tử bên phải.\n",
        "\n",
        "Lặp nhiều bước, mỗi lần phạm vi cộng dồn tăng gấp đôi.\n",
        "\n",
        "Downsweep:\n",
        "\n",
        "Truyền ngược lại giá trị tích lũy để hoàn tất mảng prefix-sum.\n",
        "\n",
        "Lúc này ta khôi phục prefix sum cho từng phần tử, không chỉ nút “lá phải” trong cây."
      ],
      "metadata": {
        "id": "KI3JLpz0tyrA"
      }
    },
    {
      "cell_type": "code",
      "source": [],
      "metadata": {
        "id": "E6AQsqq9pXie"
      },
      "execution_count": null,
      "outputs": []
    }
  ]
}