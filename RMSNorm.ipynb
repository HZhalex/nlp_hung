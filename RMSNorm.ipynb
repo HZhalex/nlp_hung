{
  "nbformat": 4,
  "nbformat_minor": 0,
  "metadata": {
    "colab": {
      "provenance": []
    },
    "kernelspec": {
      "name": "python3",
      "display_name": "Python 3"
    },
    "language_info": {
      "name": "python"
    }
  },
  "cells": [
    {
      "cell_type": "code",
      "source": [
        "!pip install xformers"
      ],
      "metadata": {
        "id": "VVok6El7NfJ0"
      },
      "execution_count": null,
      "outputs": []
    },
    {
      "cell_type": "code",
      "execution_count": null,
      "metadata": {
        "collapsed": true,
        "id": "YuUgD748NQ24"
      },
      "outputs": [],
      "source": [
        "from xformers.components.normalization import RMSNorm"
      ]
    },
    {
      "cell_type": "code",
      "source": [
        "import torch"
      ],
      "metadata": {
        "id": "oKZwlw0SNbmw"
      },
      "execution_count": null,
      "outputs": []
    },
    {
      "cell_type": "code",
      "source": [
        "x = torch.tensor([[1.0,2.0,3.0,4.0,5.0],\n",
        "                  [5.0,4.0,3.0,2.0,1.0]])\n",
        "hung = RMSNorm(d_model=5)\n",
        "out_put = hung(x)\n",
        "print(out_put)"
      ],
      "metadata": {
        "id": "ELKjhEBDNdWg"
      },
      "execution_count": null,
      "outputs": []
    },
    {
      "cell_type": "code",
      "source": [
        "import torch\n",
        "import torch.nn as nn\n",
        "\n",
        "class CustomRMSNorm(nn.Module):\n",
        "    def __init__(self, dim, eps=1e-8):\n",
        "        super().__init__()\n",
        "        self.eps = eps\n",
        "        self.gamma = nn.Parameter(torch.ones(dim))  # learnable scale\n",
        "\n",
        "    def forward(self, x):\n",
        "        # x: shape (batch_size, dim)\n",
        "        rms = torch.sqrt((x ** 2).mean(dim=-1, keepdim=True) + self.eps)\n",
        "        x_norm = x / rms\n",
        "        return x_norm * self.gamma  # broadcast gamma\n",
        "\n",
        "# Khởi tạo và chạy\n",
        "x = torch.tensor([[1.0, 2.0, 3.0, 4.0, 5.0]])\n",
        "rmsnorm = CustomRMSNorm(dim=5)\n",
        "output = rmsnorm(x)\n",
        "print(\"RMSNorm (tự viết):\", output)\n"
      ],
      "metadata": {
        "colab": {
          "base_uri": "https://localhost:8080/"
        },
        "id": "o-d6OML2Nx9G",
        "outputId": "3f2c2a83-fc6a-4d9c-e2b5-7281bac0c113"
      },
      "execution_count": 5,
      "outputs": [
        {
          "output_type": "stream",
          "name": "stdout",
          "text": [
            "RMSNorm (tự viết): tensor([[0.3015, 0.6030, 0.9045, 1.2060, 1.5076]], grad_fn=<DivBackward0>)\n"
          ]
        }
      ]
    },
    {
      "cell_type": "code",
      "source": [],
      "metadata": {
        "id": "toAQ81D1OyMd"
      },
      "execution_count": null,
      "outputs": []
    }
  ]
}